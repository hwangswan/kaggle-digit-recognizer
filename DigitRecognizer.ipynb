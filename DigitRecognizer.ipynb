{
  "nbformat": 4,
  "nbformat_minor": 0,
  "metadata": {
    "colab": {
      "name": "DigitRecognizer.ipynb",
      "provenance": [],
      "collapsed_sections": [],
      "authorship_tag": "ABX9TyO/ywEIr+rjFf+Wv6LvM7Yq",
      "include_colab_link": true
    },
    "kernelspec": {
      "name": "python3",
      "display_name": "Python 3"
    },
    "language_info": {
      "name": "python"
    }
  },
  "cells": [
    {
      "cell_type": "markdown",
      "metadata": {
        "id": "view-in-github",
        "colab_type": "text"
      },
      "source": [
        "<a href=\"https://colab.research.google.com/github/hwangswan/kaggle-digit-recognizer/blob/main/DigitRecognizer.ipynb\" target=\"_parent\"><img src=\"https://colab.research.google.com/assets/colab-badge.svg\" alt=\"Open In Colab\"/></a>"
      ]
    },
    {
      "cell_type": "code",
      "execution_count": 1,
      "metadata": {
        "id": "BfTsJ5O0RFIo"
      },
      "outputs": [],
      "source": [
        "# Tensorflow\n",
        "import tensorflow as tf\n",
        "from tensorflow import keras\n",
        "\n",
        "from sklearn.model_selection import train_test_split\n",
        "\n",
        "# Matplot\n",
        "import matplotlib.pyplot as plt\n",
        "%matplotlib inline\n",
        "\n",
        "# Numpy\n",
        "import numpy as np\n",
        "\n",
        "# Pandas\n",
        "import pandas as pd\n",
        "\n",
        "import zipfile\n",
        "\n",
        "import seaborn as sb\n"
      ]
    },
    {
      "cell_type": "markdown",
      "source": [
        "Mounting file from Google Drive"
      ],
      "metadata": {
        "id": "x3T_c8zjTXsw"
      }
    },
    {
      "cell_type": "code",
      "source": [
        "from google.colab import drive\n",
        "drive.mount('/gdrive')"
      ],
      "metadata": {
        "colab": {
          "base_uri": "https://localhost:8080/"
        },
        "id": "4wcH8p0xTVpH",
        "outputId": "93aa8b8d-9370-492b-b9f5-32b3e223fd76"
      },
      "execution_count": 2,
      "outputs": [
        {
          "output_type": "stream",
          "name": "stdout",
          "text": [
            "Mounted at /gdrive\n"
          ]
        }
      ]
    },
    {
      "cell_type": "markdown",
      "source": [
        "Unzip sample data"
      ],
      "metadata": {
        "id": "dxLTfNnAR-pY"
      }
    },
    {
      "cell_type": "code",
      "source": [
        "archive = zipfile.ZipFile('/gdrive/MyDrive/Colab Notebooks/digit-recognizer.zip')\n",
        "\n",
        "for file in archive.namelist():\n",
        "    archive.extract(file, '/content/data')"
      ],
      "metadata": {
        "id": "3vyE-Sx-ReWx"
      },
      "execution_count": 3,
      "outputs": []
    },
    {
      "cell_type": "code",
      "source": [
        "train_csv = '/content/data/train.csv'\n",
        "test_csv = '/content/data/test.csv'"
      ],
      "metadata": {
        "id": "wBLgkTE5UEBe"
      },
      "execution_count": 4,
      "outputs": []
    },
    {
      "cell_type": "code",
      "source": [
        "df = pd.read_csv(train_csv)\n",
        "df.shape"
      ],
      "metadata": {
        "colab": {
          "base_uri": "https://localhost:8080/"
        },
        "id": "FKLWUUAqUJ1c",
        "outputId": "55d3d690-684f-4988-e311-bc4e7cfe44d3"
      },
      "execution_count": 5,
      "outputs": [
        {
          "output_type": "execute_result",
          "data": {
            "text/plain": [
              "(42000, 785)"
            ]
          },
          "metadata": {},
          "execution_count": 5
        }
      ]
    },
    {
      "cell_type": "code",
      "source": [
        "X, y = df.drop('label', axis = 1).values, df['label'].values"
      ],
      "metadata": {
        "id": "Jd5PdaznUVm5"
      },
      "execution_count": 6,
      "outputs": []
    },
    {
      "cell_type": "code",
      "source": [
        "X"
      ],
      "metadata": {
        "colab": {
          "base_uri": "https://localhost:8080/"
        },
        "id": "EMJXEQdSVsh7",
        "outputId": "a2f5220d-c1fe-4d47-fda2-ee468518ccde"
      },
      "execution_count": 7,
      "outputs": [
        {
          "output_type": "execute_result",
          "data": {
            "text/plain": [
              "array([[0, 0, 0, ..., 0, 0, 0],\n",
              "       [0, 0, 0, ..., 0, 0, 0],\n",
              "       [0, 0, 0, ..., 0, 0, 0],\n",
              "       ...,\n",
              "       [0, 0, 0, ..., 0, 0, 0],\n",
              "       [0, 0, 0, ..., 0, 0, 0],\n",
              "       [0, 0, 0, ..., 0, 0, 0]])"
            ]
          },
          "metadata": {},
          "execution_count": 7
        }
      ]
    },
    {
      "cell_type": "code",
      "source": [
        "y"
      ],
      "metadata": {
        "colab": {
          "base_uri": "https://localhost:8080/"
        },
        "id": "UBTpx4oqZcvS",
        "outputId": "3fa22991-919c-472e-e873-6d216c214f6c"
      },
      "execution_count": 8,
      "outputs": [
        {
          "output_type": "execute_result",
          "data": {
            "text/plain": [
              "array([1, 0, 1, ..., 7, 6, 9])"
            ]
          },
          "metadata": {},
          "execution_count": 8
        }
      ]
    },
    {
      "cell_type": "markdown",
      "source": [
        "Split data to train and validate"
      ],
      "metadata": {
        "id": "O3qFrSDXabM6"
      }
    },
    {
      "cell_type": "code",
      "source": [
        "X_train, X_test, y_train, y_test = train_test_split(X, y, test_size = 0.33, random_state = 42)"
      ],
      "metadata": {
        "id": "FZDw_z8OZtv2"
      },
      "execution_count": 9,
      "outputs": []
    },
    {
      "cell_type": "code",
      "source": [
        "X_train.shape"
      ],
      "metadata": {
        "colab": {
          "base_uri": "https://localhost:8080/"
        },
        "id": "cZea-i1RahND",
        "outputId": "619f5a70-d841-4a7b-e08d-afb31040bbfe"
      },
      "execution_count": 10,
      "outputs": [
        {
          "output_type": "execute_result",
          "data": {
            "text/plain": [
              "(28140, 784)"
            ]
          },
          "metadata": {},
          "execution_count": 10
        }
      ]
    },
    {
      "cell_type": "code",
      "source": [
        "X_test.shape"
      ],
      "metadata": {
        "colab": {
          "base_uri": "https://localhost:8080/"
        },
        "id": "5nKJ2lghaiv8",
        "outputId": "794227fd-9784-49de-8d2f-6f1e77be3669"
      },
      "execution_count": 11,
      "outputs": [
        {
          "output_type": "execute_result",
          "data": {
            "text/plain": [
              "(13860, 784)"
            ]
          },
          "metadata": {},
          "execution_count": 11
        }
      ]
    },
    {
      "cell_type": "code",
      "source": [
        "X_train = X_train / 255\n",
        "X_test = X_test / 255"
      ],
      "metadata": {
        "id": "4AS2YjwW7xY-"
      },
      "execution_count": 12,
      "outputs": []
    },
    {
      "cell_type": "markdown",
      "source": [
        "Plotting some example"
      ],
      "metadata": {
        "id": "_8FLRefSao0i"
      }
    },
    {
      "cell_type": "code",
      "source": [
        "for i in range(1, 10):\n",
        "    example = np.reshape(X_train[i], (28, 28))\n",
        "    plt.matshow(example)\n",
        "    print(y_train[i])"
      ],
      "metadata": {
        "colab": {
          "base_uri": "https://localhost:8080/",
          "height": 1000
        },
        "id": "jbRw3bonasG-",
        "outputId": "a7f1a1b9-a213-4395-eb27-6e5183252fc2"
      },
      "execution_count": 13,
      "outputs": [
        {
          "output_type": "stream",
          "name": "stdout",
          "text": [
            "6\n",
            "3\n",
            "1\n",
            "1\n",
            "8\n",
            "1\n",
            "3\n",
            "3\n",
            "0\n"
          ]
        },
        {
          "output_type": "display_data",
          "data": {
            "image/png": "[encoded data removed]",
            "text/plain": [
              "<Figure size 288x288 with 1 Axes>"
            ]
          },
          "metadata": {
            "needs_background": "light"
          }
        },
        {
          "output_type": "display_data",
          "data": {
            "image/png": "[encoded data removed]",
            "text/plain": [
              "<Figure size 288x288 with 1 Axes>"
            ]
          },
          "metadata": {
            "needs_background": "light"
          }
        },
        {
          "output_type": "display_data",
          "data": {
            "image/png": "[encoded data removed]",
            "text/plain": [
              "<Figure size 288x288 with 1 Axes>"
            ]
          },
          "metadata": {
            "needs_background": "light"
          }
        },
        {
          "output_type": "display_data",
          "data": {
            "image/png": "[encoded data removed]",
            "text/plain": [
              "<Figure size 288x288 with 1 Axes>"
            ]
          },
          "metadata": {
            "needs_background": "light"
          }
        },
        {
          "output_type": "display_data",
          "data": {
            "image/png": "[encoded data removed]",
            "text/plain": [
              "<Figure size 288x288 with 1 Axes>"
            ]
          },
          "metadata": {
            "needs_background": "light"
          }
        },
        {
          "output_type": "display_data",
          "data": {
            "image/png": "[encoded data removed]",
            "text/plain": [
              "<Figure size 288x288 with 1 Axes>"
            ]
          },
          "metadata": {
            "needs_background": "light"
          }
        },
        {
          "output_type": "display_data",
          "data": {
            "image/png": "[encoded data removed]",
            "text/plain": [
              "<Figure size 288x288 with 1 Axes>"
            ]
          },
          "metadata": {
            "needs_background": "light"
          }
        },
        {
          "output_type": "display_data",
          "data": {
            "image/png": "[encoded data removed]",
            "text/plain": [
              "<Figure size 288x288 with 1 Axes>"
            ]
          },
          "metadata": {
            "needs_background": "light"
          }
        },
        {
          "output_type": "display_data",
          "data": {
            "image/png": "[encoded data removed]",
            "text/plain": [
              "<Figure size 288x288 with 1 Axes>"
            ]
          },
          "metadata": {
            "needs_background": "light"
          }
        }
      ]
    },
    {
      "cell_type": "markdown",
      "source": [
        "## Training model"
      ],
      "metadata": {
        "id": "WVD_Agn_bvXt"
      }
    },
    {
      "cell_type": "code",
      "source": [
        "model = keras.Sequential([\n",
        "    keras.layers.Dense(100, input_shape = (784, ), activation = 'relu'),\n",
        "    keras.layers.Dense(10, activation = 'sigmoid')\n",
        "])"
      ],
      "metadata": {
        "id": "NYp-8VCQbztu"
      },
      "execution_count": 14,
      "outputs": []
    },
    {
      "cell_type": "code",
      "source": [
        "model.compile(\n",
        "    optimizer = 'adam',\n",
        "    loss = 'sparse_categorical_crossentropy',\n",
        "    metrics = ['sparse_categorical_accuracy']\n",
        ")"
      ],
      "metadata": {
        "id": "Dm7ZhcsAjL5K"
      },
      "execution_count": 19,
      "outputs": []
    },
    {
      "cell_type": "code",
      "source": [
        "hist = model.fit(\n",
        "    X_train, y_train,\n",
        "    epochs = 10,\n",
        "    batch_size = 16,\n",
        "    validation_data = (X_test, y_test)\n",
        ")"
      ],
      "metadata": {
        "colab": {
          "base_uri": "https://localhost:8080/"
        },
        "id": "afoMtdhxjeRA",
        "outputId": "5069a015-d4c5-48c4-9f7d-856f65e9747c"
      },
      "execution_count": 20,
      "outputs": [
        {
          "output_type": "stream",
          "name": "stdout",
          "text": [
            "Epoch 1/10\n",
            "1759/1759 [==============================] - 6s 3ms/step - loss: 0.3277 - sparse_categorical_accuracy: 0.9069 - val_loss: 0.1984 - val_sparse_categorical_accuracy: 0.9397\n",
            "Epoch 2/10\n",
            "1759/1759 [==============================] - 4s 2ms/step - loss: 0.1548 - sparse_categorical_accuracy: 0.9539 - val_loss: 0.1416 - val_sparse_categorical_accuracy: 0.9586\n",
            "Epoch 3/10\n",
            "1759/1759 [==============================] - 5s 3ms/step - loss: 0.1071 - sparse_categorical_accuracy: 0.9685 - val_loss: 0.1269 - val_sparse_categorical_accuracy: 0.9614\n",
            "Epoch 4/10\n",
            "1759/1759 [==============================] - 5s 3ms/step - loss: 0.0791 - sparse_categorical_accuracy: 0.9757 - val_loss: 0.1112 - val_sparse_categorical_accuracy: 0.9658\n",
            "Epoch 5/10\n",
            "1759/1759 [==============================] - 7s 4ms/step - loss: 0.0588 - sparse_categorical_accuracy: 0.9817 - val_loss: 0.1274 - val_sparse_categorical_accuracy: 0.9619\n",
            "Epoch 6/10\n",
            "1759/1759 [==============================] - 9s 5ms/step - loss: 0.0451 - sparse_categorical_accuracy: 0.9859 - val_loss: 0.1092 - val_sparse_categorical_accuracy: 0.9685\n",
            "Epoch 7/10\n",
            "1759/1759 [==============================] - 7s 4ms/step - loss: 0.0364 - sparse_categorical_accuracy: 0.9892 - val_loss: 0.1374 - val_sparse_categorical_accuracy: 0.9610\n",
            "Epoch 8/10\n",
            "1759/1759 [==============================] - 4s 2ms/step - loss: 0.0275 - sparse_categorical_accuracy: 0.9915 - val_loss: 0.1291 - val_sparse_categorical_accuracy: 0.9628\n",
            "Epoch 9/10\n",
            "1759/1759 [==============================] - 5s 3ms/step - loss: 0.0228 - sparse_categorical_accuracy: 0.9932 - val_loss: 0.1288 - val_sparse_categorical_accuracy: 0.9658\n",
            "Epoch 10/10\n",
            "1759/1759 [==============================] - 4s 3ms/step - loss: 0.0190 - sparse_categorical_accuracy: 0.9941 - val_loss: 0.1162 - val_sparse_categorical_accuracy: 0.9692\n"
          ]
        }
      ]
    },
    {
      "cell_type": "code",
      "source": [
        "plt.plot(hist.history['sparse_categorical_accuracy'])\n",
        "plt.plot(hist.history['val_sparse_categorical_accuracy'])\n",
        "plt.xlabel('Epochs')\n",
        "plt.ylabel('Accuracy')\n",
        "plt.legend(['sparse_categorical_accuracy', 'val_sparse_categorical_accuracy'])"
      ],
      "metadata": {
        "colab": {
          "base_uri": "https://localhost:8080/",
          "height": 296
        },
        "id": "oTB435I1cBLN",
        "outputId": "f353f29d-6861-4e61-fdc3-7096cb241467"
      },
      "execution_count": 21,
      "outputs": [
        {
          "output_type": "execute_result",
          "data": {
            "text/plain": [
              "<matplotlib.legend.Legend at 0x7f136d272210>"
            ]
          },
          "metadata": {},
          "execution_count": 21
        },
        {
          "output_type": "display_data",
          "data": {
            "image/png": "[encoded data removed]",
            "text/plain": [
              "<Figure size 432x288 with 1 Axes>"
            ]
          },
          "metadata": {
            "needs_background": "light"
          }
        }
      ]
    },
    {
      "cell_type": "code",
      "source": [
        "plt.plot(hist.history['loss'])\n",
        "plt.plot(hist.history['val_loss'])\n",
        "plt.xlabel('Epochs')\n",
        "plt.ylabel('Loss')\n",
        "plt.legend(['loss', 'val_loss'])"
      ],
      "metadata": {
        "colab": {
          "base_uri": "https://localhost:8080/",
          "height": 296
        },
        "id": "NVwLHJvsdJdp",
        "outputId": "af7e5a2f-d6d8-4c21-e01f-3848d1615bc4"
      },
      "execution_count": 23,
      "outputs": [
        {
          "output_type": "execute_result",
          "data": {
            "text/plain": [
              "<matplotlib.legend.Legend at 0x7f136de07f90>"
            ]
          },
          "metadata": {},
          "execution_count": 23
        },
        {
          "output_type": "display_data",
          "data": {
            "image/png": "[encoded data removed]",
            "text/plain": [
              "<Figure size 432x288 with 1 Axes>"
            ]
          },
          "metadata": {
            "needs_background": "light"
          }
        }
      ]
    },
    {
      "cell_type": "markdown",
      "source": [
        "## Training result"
      ],
      "metadata": {
        "id": "43pp2zkH5Iji"
      }
    },
    {
      "cell_type": "code",
      "source": [
        "model.evaluate(X_test, y_test)"
      ],
      "metadata": {
        "colab": {
          "base_uri": "https://localhost:8080/"
        },
        "id": "wk_3NqUmlUlg",
        "outputId": "8ec82603-9bf6-4359-b042-2f44ca182741"
      },
      "execution_count": 24,
      "outputs": [
        {
          "output_type": "stream",
          "name": "stdout",
          "text": [
            "434/434 [==============================] - 1s 1ms/step - loss: 0.1162 - sparse_categorical_accuracy: 0.9692\n"
          ]
        },
        {
          "output_type": "execute_result",
          "data": {
            "text/plain": [
              "[0.1161782518029213, 0.9691919088363647]"
            ]
          },
          "metadata": {},
          "execution_count": 24
        }
      ]
    },
    {
      "cell_type": "code",
      "source": [
        "y_test_predicted = model.predict(X_test)\n",
        "y_test_predicted_labels = [np.argmax(c) for c in y_test_predicted]"
      ],
      "metadata": {
        "id": "ngOhtk7e5wmv"
      },
      "execution_count": 25,
      "outputs": []
    },
    {
      "cell_type": "code",
      "source": [
        "confusion_matrix = tf.math.confusion_matrix(\n",
        "    labels = y_test, predictions = y_test_predicted_labels\n",
        ")\n",
        "\n",
        "confusion_matrix"
      ],
      "metadata": {
        "colab": {
          "base_uri": "https://localhost:8080/"
        },
        "id": "245Iea6rjwlx",
        "outputId": "517b867f-615a-4685-d8e4-0e63756c1783"
      },
      "execution_count": 26,
      "outputs": [
        {
          "output_type": "execute_result",
          "data": {
            "text/plain": [
              "<tf.Tensor: shape=(10, 10), dtype=int32, numpy=\n",
              "array([[1321,    0,    1,    1,    1,    1,    7,    1,    0,    0],\n",
              "       [   0, 1507,    3,    1,    0,    2,    1,    2,    3,    1],\n",
              "       [   7,    8, 1374,    2,    3,    0,    4,    3,    9,    4],\n",
              "       [   5,    7,   18, 1390,    0,   22,    0,   10,   14,    5],\n",
              "       [   5,    0,    7,    0, 1306,    2,   14,    3,    1,   20],\n",
              "       [   3,    2,    0,   12,    0, 1166,   12,    1,    5,    4],\n",
              "       [   9,    2,    4,    0,    2,    5, 1371,    1,    3,    0],\n",
              "       [   3,    4,   16,    1,    8,    3,    0, 1430,    2,   13],\n",
              "       [   1,    9,   15,   11,    3,    8,    9,    2, 1273,    3],\n",
              "       [   6,    2,    8,    8,    6,   10,    0,    9,    5, 1294]],\n",
              "      dtype=int32)>"
            ]
          },
          "metadata": {},
          "execution_count": 26
        }
      ]
    },
    {
      "cell_type": "code",
      "source": [
        "plt.figure(figsize = (10, 7))\n",
        "sb.heatmap(confusion_matrix, annot = True, fmt = 'd')\n",
        "plt.xlabel('Predicted')\n",
        "plt.ylabel('Truth')"
      ],
      "metadata": {
        "colab": {
          "base_uri": "https://localhost:8080/",
          "height": 459
        },
        "id": "QVpfmEzP6Sp8",
        "outputId": "25b6c822-c3a0-4203-a0a1-0499c54833ba"
      },
      "execution_count": 27,
      "outputs": [
        {
          "output_type": "execute_result",
          "data": {
            "text/plain": [
              "Text(69.0, 0.5, 'Truth')"
            ]
          },
          "metadata": {},
          "execution_count": 27
        },
        {
          "output_type": "display_data",
          "data": {
            "image/png": "[encoded data removed]",
            "text/plain": [
              "<Figure size 720x504 with 2 Axes>"
            ]
          },
          "metadata": {
            "needs_background": "light"
          }
        }
      ]
    },
    {
      "cell_type": "markdown",
      "source": [
        "Create submission file"
      ],
      "metadata": {
        "id": "p_Y-dUTamWdK"
      }
    },
    {
      "cell_type": "code",
      "source": [
        "sub_df = pd.read_csv(test_csv)"
      ],
      "metadata": {
        "id": "pZKHvhKYmWJF"
      },
      "execution_count": 28,
      "outputs": []
    },
    {
      "cell_type": "code",
      "source": [
        "y_ = model.predict(sub_df.values)\n",
        "y_predicted_labels = [np.argmax(c) for c in y_]"
      ],
      "metadata": {
        "id": "X5ULxeiFmzSx"
      },
      "execution_count": 29,
      "outputs": []
    },
    {
      "cell_type": "code",
      "source": [
        "result_df = pd.DataFrame({\n",
        "    'ImageId' : list(range(1, len(sub_df) + 1)), \n",
        "    'Label' : y_predicted_labels\n",
        "})"
      ],
      "metadata": {
        "id": "Pk8grXpyvltr"
      },
      "execution_count": 30,
      "outputs": []
    },
    {
      "cell_type": "code",
      "source": [
        "result_df.to_csv('submission.csv', index = False)"
      ],
      "metadata": {
        "id": "s4Aisso3v76k"
      },
      "execution_count": 31,
      "outputs": []
    }
  ]
}