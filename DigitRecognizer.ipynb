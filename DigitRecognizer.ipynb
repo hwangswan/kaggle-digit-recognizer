{
  "nbformat": 4,
  "nbformat_minor": 0,
  "metadata": {
    "colab": {
      "name": "DigitRecognizer.ipynb",
      "provenance": [],
      "collapsed_sections": [],
      "authorship_tag": "ABX9TyPyZ62vqEq6RH/3GRkiBbQm",
      "include_colab_link": true
    },
    "kernelspec": {
      "name": "python3",
      "display_name": "Python 3"
    },
    "language_info": {
      "name": "python"
    }
  },
  "cells": [
    {
      "cell_type": "markdown",
      "metadata": {
        "id": "view-in-github",
        "colab_type": "text"
      },
      "source": [
        "<a href=\"https://colab.research.google.com/github/hwangswan/kaggle-digit-recognizer/blob/main/DigitRecognizer.ipynb\" target=\"_parent\"><img src=\"https://colab.research.google.com/assets/colab-badge.svg\" alt=\"Open In Colab\"/></a>"
      ]
    },
    {
      "cell_type": "code",
      "execution_count": null,
      "metadata": {
        "id": "BfTsJ5O0RFIo"
      },
      "outputs": [],
      "source": [
        "# Tensorflow\n",
        "import tensorflow as tf\n",
        "from tensorflow import keras\n",
        "\n",
        "from sklearn.model_selection import train_test_split\n",
        "\n",
        "# Matplot\n",
        "import matplotlib.pyplot as plt\n",
        "%matplotlib inline\n",
        "\n",
        "# Numpy\n",
        "import numpy as np\n",
        "\n",
        "# Pandas\n",
        "import pandas as pd\n",
        "\n",
        "import zipfile\n",
        "\n",
        "import seaborn as sb\n"
      ]
    },
    {
      "cell_type": "markdown",
      "source": [
        "Mounting file from Google Drive"
      ],
      "metadata": {
        "id": "x3T_c8zjTXsw"
      }
    },
    {
      "cell_type": "code",
      "source": [
        "from google.colab import drive\n",
        "drive.mount('/gdrive')"
      ],
      "metadata": {
        "colab": {
          "base_uri": "https://localhost:8080/"
        },
        "id": "4wcH8p0xTVpH",
        "outputId": "a30fe264-3908-426b-919a-e6d275d71435"
      },
      "execution_count": null,
      "outputs": [
        {
          "output_type": "stream",
          "name": "stdout",
          "text": [
            "Mounted at /gdrive\n"
          ]
        }
      ]
    },
    {
      "cell_type": "markdown",
      "source": [
        "Unzip sample data"
      ],
      "metadata": {
        "id": "dxLTfNnAR-pY"
      }
    },
    {
      "cell_type": "code",
      "source": [
        "archive = zipfile.ZipFile('/gdrive/MyDrive/Colab Notebooks/digit-recognizer.zip')\n",
        "\n",
        "for file in archive.namelist():\n",
        "    archive.extract(file, '/content/data')"
      ],
      "metadata": {
        "id": "3vyE-Sx-ReWx"
      },
      "execution_count": null,
      "outputs": []
    },
    {
      "cell_type": "code",
      "source": [
        "train_csv = '/content/data/train.csv'\n",
        "test_csv = '/content/data/test.csv'"
      ],
      "metadata": {
        "id": "wBLgkTE5UEBe"
      },
      "execution_count": null,
      "outputs": []
    },
    {
      "cell_type": "code",
      "source": [
        "df = pd.read_csv(train_csv)\n",
        "df.shape"
      ],
      "metadata": {
        "colab": {
          "base_uri": "https://localhost:8080/"
        },
        "id": "FKLWUUAqUJ1c",
        "outputId": "51888ff2-33e3-42ce-9f8d-9436f2ed7b35"
      },
      "execution_count": null,
      "outputs": [
        {
          "output_type": "execute_result",
          "data": {
            "text/plain": [
              "(42000, 785)"
            ]
          },
          "metadata": {},
          "execution_count": 5
        }
      ]
    },
    {
      "cell_type": "code",
      "source": [
        "X, y = df.drop('label', axis = 1).values, df['label'].values"
      ],
      "metadata": {
        "id": "Jd5PdaznUVm5"
      },
      "execution_count": null,
      "outputs": []
    },
    {
      "cell_type": "code",
      "source": [
        "X"
      ],
      "metadata": {
        "colab": {
          "base_uri": "https://localhost:8080/"
        },
        "id": "EMJXEQdSVsh7",
        "outputId": "ad12931a-1ef6-4b2a-e421-24366b14b4cd"
      },
      "execution_count": null,
      "outputs": [
        {
          "output_type": "execute_result",
          "data": {
            "text/plain": [
              "array([[0, 0, 0, ..., 0, 0, 0],\n",
              "       [0, 0, 0, ..., 0, 0, 0],\n",
              "       [0, 0, 0, ..., 0, 0, 0],\n",
              "       ...,\n",
              "       [0, 0, 0, ..., 0, 0, 0],\n",
              "       [0, 0, 0, ..., 0, 0, 0],\n",
              "       [0, 0, 0, ..., 0, 0, 0]])"
            ]
          },
          "metadata": {},
          "execution_count": 7
        }
      ]
    },
    {
      "cell_type": "code",
      "source": [
        "y"
      ],
      "metadata": {
        "colab": {
          "base_uri": "https://localhost:8080/"
        },
        "id": "UBTpx4oqZcvS",
        "outputId": "c62ecd71-0300-4f68-90f5-8f9ae159ee86"
      },
      "execution_count": null,
      "outputs": [
        {
          "output_type": "execute_result",
          "data": {
            "text/plain": [
              "array([1, 0, 1, ..., 7, 6, 9])"
            ]
          },
          "metadata": {},
          "execution_count": 8
        }
      ]
    },
    {
      "cell_type": "markdown",
      "source": [
        "Split data to train and validate"
      ],
      "metadata": {
        "id": "O3qFrSDXabM6"
      }
    },
    {
      "cell_type": "code",
      "source": [
        "X_train, X_test, y_train, y_test = train_test_split(X, y, test_size = 0.33, random_state = 42)"
      ],
      "metadata": {
        "id": "FZDw_z8OZtv2"
      },
      "execution_count": null,
      "outputs": []
    },
    {
      "cell_type": "code",
      "source": [
        "X_train.shape"
      ],
      "metadata": {
        "colab": {
          "base_uri": "https://localhost:8080/"
        },
        "id": "cZea-i1RahND",
        "outputId": "0470f187-9c75-4e54-c670-37aeea229e73"
      },
      "execution_count": null,
      "outputs": [
        {
          "output_type": "execute_result",
          "data": {
            "text/plain": [
              "(28140, 784)"
            ]
          },
          "metadata": {},
          "execution_count": 10
        }
      ]
    },
    {
      "cell_type": "code",
      "source": [
        "X_test.shape"
      ],
      "metadata": {
        "colab": {
          "base_uri": "https://localhost:8080/"
        },
        "id": "5nKJ2lghaiv8",
        "outputId": "c988bf12-c942-41b1-f00a-7903a27b13e6"
      },
      "execution_count": null,
      "outputs": [
        {
          "output_type": "execute_result",
          "data": {
            "text/plain": [
              "(13860, 784)"
            ]
          },
          "metadata": {},
          "execution_count": 11
        }
      ]
    },
    {
      "cell_type": "code",
      "source": [
        "X_train = X_train / 255\n",
        "X_test = X_test / 255"
      ],
      "metadata": {
        "id": "4AS2YjwW7xY-"
      },
      "execution_count": null,
      "outputs": []
    },
    {
      "cell_type": "markdown",
      "source": [
        "Plotting some example"
      ],
      "metadata": {
        "id": "_8FLRefSao0i"
      }
    },
    {
      "cell_type": "code",
      "source": [
        "for i in range(1, 10):\n",
        "    example = np.reshape(X_train[i], (28, 28))\n",
        "    plt.matshow(example)\n",
        "    print(y_train[i])"
      ],
      "metadata": {
        "colab": {
          "base_uri": "https://localhost:8080/",
          "height": 1000
        },
        "id": "jbRw3bonasG-",
        "outputId": "aa435c7f-d2cb-41ce-805c-7ba833a75d2f"
      },
      "execution_count": null,
      "outputs": [
        {
          "output_type": "stream",
          "name": "stdout",
          "text": [
            "6\n",
            "3\n",
            "1\n",
            "1\n",
            "8\n",
            "1\n",
            "3\n",
            "3\n",
            "0\n"
          ]
        },
        {
          "output_type": "display_data",
          "data": {
            "image/png": "[encoded data removed]",
            "text/plain": [
              "<Figure size 288x288 with 1 Axes>"
            ]
          },
          "metadata": {
            "needs_background": "light"
          }
        },
        {
          "output_type": "display_data",
          "data": {
            "image/png": "[encoded data removed]",
            "text/plain": [
              "<Figure size 288x288 with 1 Axes>"
            ]
          },
          "metadata": {
            "needs_background": "light"
          }
        },
        {
          "output_type": "display_data",
          "data": {
            "image/png": "[encoded data removed]",
            "text/plain": [
              "<Figure size 288x288 with 1 Axes>"
            ]
          },
          "metadata": {
            "needs_background": "light"
          }
        },
        {
          "output_type": "display_data",
          "data": {
            "image/png": "[encoded data removed]",
            "text/plain": [
              "<Figure size 288x288 with 1 Axes>"
            ]
          },
          "metadata": {
            "needs_background": "light"
          }
        },
        {
          "output_type": "display_data",
          "data": {
            "image/png": "[encoded data removed]",
            "text/plain": [
              "<Figure size 288x288 with 1 Axes>"
            ]
          },
          "metadata": {
            "needs_background": "light"
          }
        },
        {
          "output_type": "display_data",
          "data": {
            "image/png": "[encoded data removed]",
            "text/plain": [
              "<Figure size 288x288 with 1 Axes>"
            ]
          },
          "metadata": {
            "needs_background": "light"
          }
        },
        {
          "output_type": "display_data",
          "data": {
            "image/png": "[encoded data removed]",
            "text/plain": [
              "<Figure size 288x288 with 1 Axes>"
            ]
          },
          "metadata": {
            "needs_background": "light"
          }
        },
        {
          "output_type": "display_data",
          "data": {
            "image/png": "[encoded data removed]",
            "text/plain": [
              "<Figure size 288x288 with 1 Axes>"
            ]
          },
          "metadata": {
            "needs_background": "light"
          }
        },
        {
          "output_type": "display_data",
          "data": {
            "image/png": "[encoded data removed]",
            "text/plain": [
              "<Figure size 288x288 with 1 Axes>"
            ]
          },
          "metadata": {
            "needs_background": "light"
          }
        }
      ]
    },
    {
      "cell_type": "markdown",
      "source": [
        "## Training model"
      ],
      "metadata": {
        "id": "WVD_Agn_bvXt"
      }
    },
    {
      "cell_type": "code",
      "source": [
        "model = keras.Sequential([\n",
        "    keras.layers.Dense(100, input_shape = (784, ), activation = 'relu'),\n",
        "    keras.layers.Dense(10, activation = 'sigmoid')\n",
        "])"
      ],
      "metadata": {
        "id": "NYp-8VCQbztu"
      },
      "execution_count": null,
      "outputs": []
    },
    {
      "cell_type": "code",
      "source": [
        "model.compile(\n",
        "    optimizer = 'adam',\n",
        "    loss = 'sparse_categorical_crossentropy',\n",
        "    metrics = ['accuracy']\n",
        ")"
      ],
      "metadata": {
        "id": "Dm7ZhcsAjL5K"
      },
      "execution_count": null,
      "outputs": []
    },
    {
      "cell_type": "code",
      "source": [
        "hist = model.fit(\n",
        "    X_train, y_train, \n",
        "    epochs = 10\n",
        ")"
      ],
      "metadata": {
        "colab": {
          "base_uri": "https://localhost:8080/"
        },
        "id": "afoMtdhxjeRA",
        "outputId": "77231afa-24cf-450d-ef38-23f91d939b78"
      },
      "execution_count": null,
      "outputs": [
        {
          "output_type": "stream",
          "name": "stdout",
          "text": [
            "Epoch 1/10\n",
            "880/880 [==============================] - 4s 3ms/step - loss: 0.3610 - accuracy: 0.8976\n",
            "Epoch 2/10\n",
            "880/880 [==============================] - 2s 3ms/step - loss: 0.1734 - accuracy: 0.9499\n",
            "Epoch 3/10\n",
            "880/880 [==============================] - 2s 3ms/step - loss: 0.1231 - accuracy: 0.9647\n",
            "Epoch 4/10\n",
            "880/880 [==============================] - 2s 3ms/step - loss: 0.0938 - accuracy: 0.9730\n",
            "Epoch 5/10\n",
            "880/880 [==============================] - 2s 2ms/step - loss: 0.0750 - accuracy: 0.9777\n",
            "Epoch 6/10\n",
            "880/880 [==============================] - 2s 3ms/step - loss: 0.0585 - accuracy: 0.9832\n",
            "Epoch 7/10\n",
            "880/880 [==============================] - 2s 2ms/step - loss: 0.0470 - accuracy: 0.9866\n",
            "Epoch 8/10\n",
            "880/880 [==============================] - 2s 2ms/step - loss: 0.0374 - accuracy: 0.9888\n",
            "Epoch 9/10\n",
            "880/880 [==============================] - 2s 3ms/step - loss: 0.0307 - accuracy: 0.9915\n",
            "Epoch 10/10\n",
            "880/880 [==============================] - 2s 2ms/step - loss: 0.0238 - accuracy: 0.9938\n"
          ]
        }
      ]
    },
    {
      "cell_type": "markdown",
      "source": [
        "## Training result"
      ],
      "metadata": {
        "id": "43pp2zkH5Iji"
      }
    },
    {
      "cell_type": "code",
      "source": [
        "model.evaluate(X_test, y_test)"
      ],
      "metadata": {
        "colab": {
          "base_uri": "https://localhost:8080/"
        },
        "id": "wk_3NqUmlUlg",
        "outputId": "96f87acc-3812-4e09-8325-f10fc6f91cac"
      },
      "execution_count": null,
      "outputs": [
        {
          "output_type": "stream",
          "name": "stdout",
          "text": [
            "434/434 [==============================] - 1s 2ms/step - loss: 0.1058 - accuracy: 0.9697\n"
          ]
        },
        {
          "output_type": "execute_result",
          "data": {
            "text/plain": [
              "[0.10577532649040222, 0.9696969985961914]"
            ]
          },
          "metadata": {},
          "execution_count": 17
        }
      ]
    },
    {
      "cell_type": "code",
      "source": [
        "y_test_predicted = model.predict(X_test)\n",
        "y_test_predicted_labels = [np.argmax(c) for c in y_test_predicted]"
      ],
      "metadata": {
        "id": "ngOhtk7e5wmv"
      },
      "execution_count": null,
      "outputs": []
    },
    {
      "cell_type": "code",
      "source": [
        "confusion_matrix = tf.math.confusion_matrix(\n",
        "    labels = y_test, predictions = y_test_predicted_labels\n",
        ")\n",
        "\n",
        "confusion_matrix"
      ],
      "metadata": {
        "colab": {
          "base_uri": "https://localhost:8080/"
        },
        "id": "245Iea6rjwlx",
        "outputId": "7595c3e2-9c59-4bef-a759-7c359dfedb20"
      },
      "execution_count": null,
      "outputs": [
        {
          "output_type": "execute_result",
          "data": {
            "text/plain": [
              "<tf.Tensor: shape=(10, 10), dtype=int32, numpy=\n",
              "array([[1309,    0,    3,    3,    2,    1,   10,    2,    2,    1],\n",
              "       [   0, 1507,    5,    0,    1,    1,    1,    1,    4,    0],\n",
              "       [   4,    8, 1367,   10,    8,    0,    2,    5,    7,    3],\n",
              "       [   2,    3,    6, 1404,    0,   15,    0,   13,   19,    9],\n",
              "       [   1,    1,    4,    0, 1316,    1,    7,    2,    1,   25],\n",
              "       [   4,    4,    0,   21,    3, 1142,   14,    1,    5,   11],\n",
              "       [   5,    3,    1,    1,    4,    1, 1377,    0,    4,    1],\n",
              "       [   0,    6,    9,    0,    6,    5,    0, 1440,    0,   14],\n",
              "       [   4,    8,   10,    6,    8,    2,    9,    2, 1278,    7],\n",
              "       [   4,    1,    6,    4,   13,    1,    0,   15,    4, 1300]],\n",
              "      dtype=int32)>"
            ]
          },
          "metadata": {},
          "execution_count": 19
        }
      ]
    },
    {
      "cell_type": "code",
      "source": [
        "plt.figure(figsize = (10, 7))\n",
        "sb.heatmap(confusion_matrix, annot = True, fmt = 'd')\n",
        "plt.xlabel('Predicted')\n",
        "plt.ylabel('Truth')"
      ],
      "metadata": {
        "colab": {
          "base_uri": "https://localhost:8080/",
          "height": 459
        },
        "id": "QVpfmEzP6Sp8",
        "outputId": "18fbad14-e40f-499f-ccbb-d193a044e070"
      },
      "execution_count": null,
      "outputs": [
        {
          "output_type": "execute_result",
          "data": {
            "text/plain": [
              "Text(69.0, 0.5, 'Truth')"
            ]
          },
          "metadata": {},
          "execution_count": 20
        },
        {
          "output_type": "display_data",
          "data": {
            "image/png": "[encoded data removed]",
            "text/plain": [
              "<Figure size 720x504 with 2 Axes>"
            ]
          },
          "metadata": {
            "needs_background": "light"
          }
        }
      ]
    },
    {
      "cell_type": "markdown",
      "source": [
        "Create submission file"
      ],
      "metadata": {
        "id": "p_Y-dUTamWdK"
      }
    },
    {
      "cell_type": "code",
      "source": [
        "sub_df = pd.read_csv(test_csv)"
      ],
      "metadata": {
        "id": "pZKHvhKYmWJF"
      },
      "execution_count": null,
      "outputs": []
    },
    {
      "cell_type": "code",
      "source": [
        "y_ = []\n",
        "count = 0\n",
        "for x in sub_df.values:\n",
        "    count += 1\n",
        "    if count % 1000 == 0:\n",
        "        print('1k passed')\n",
        "    pred_ = model.predict(np.reshape(x, (-1, 784)))[0]\n",
        "    y_.append(pred_)"
      ],
      "metadata": {
        "colab": {
          "base_uri": "https://localhost:8080/"
        },
        "id": "X5ULxeiFmzSx",
        "outputId": "d19ba512-6ab9-46bb-b958-3a5e194e132e"
      },
      "execution_count": null,
      "outputs": [
        {
          "output_type": "stream",
          "name": "stdout",
          "text": [
            "1k passed\n",
            "1k passed\n",
            "1k passed\n",
            "1k passed\n",
            "1k passed\n",
            "1k passed\n",
            "1k passed\n",
            "1k passed\n",
            "1k passed\n",
            "1k passed\n",
            "1k passed\n",
            "1k passed\n",
            "1k passed\n",
            "1k passed\n",
            "1k passed\n",
            "1k passed\n",
            "1k passed\n",
            "1k passed\n",
            "1k passed\n",
            "1k passed\n",
            "1k passed\n",
            "1k passed\n",
            "1k passed\n",
            "1k passed\n",
            "1k passed\n",
            "1k passed\n",
            "1k passed\n",
            "1k passed\n"
          ]
        }
      ]
    },
    {
      "cell_type": "code",
      "source": [
        "image_id = np.array(range(1, len(sub_df) + 1))"
      ],
      "metadata": {
        "id": "VfNR22Phn-6e"
      },
      "execution_count": null,
      "outputs": []
    },
    {
      "cell_type": "code",
      "source": [
        "image_id"
      ],
      "metadata": {
        "colab": {
          "base_uri": "https://localhost:8080/"
        },
        "id": "7ul00tzPvIHr",
        "outputId": "b2b43367-79f0-4037-fe84-8ac0bb71294f"
      },
      "execution_count": null,
      "outputs": [
        {
          "output_type": "execute_result",
          "data": {
            "text/plain": [
              "array([    1,     2,     3, ..., 27998, 27999, 28000])"
            ]
          },
          "metadata": {},
          "execution_count": 24
        }
      ]
    },
    {
      "cell_type": "code",
      "source": [
        "result_np = np.array([np.argmax(c) for c in y_])"
      ],
      "metadata": {
        "id": "S1CAXbldvZxL"
      },
      "execution_count": null,
      "outputs": []
    },
    {
      "cell_type": "code",
      "source": [
        "result_np"
      ],
      "metadata": {
        "colab": {
          "base_uri": "https://localhost:8080/"
        },
        "id": "yZrwIQfSvcnn",
        "outputId": "69f851ea-387d-4061-99c3-e9a9181275e0"
      },
      "execution_count": null,
      "outputs": [
        {
          "output_type": "execute_result",
          "data": {
            "text/plain": [
              "array([2, 0, 9, ..., 3, 4, 2])"
            ]
          },
          "metadata": {},
          "execution_count": 26
        }
      ]
    },
    {
      "cell_type": "code",
      "source": [
        "result_df = pd.DataFrame({'ImageId' : image_id, 'Label' : result_np})"
      ],
      "metadata": {
        "id": "Pk8grXpyvltr"
      },
      "execution_count": null,
      "outputs": []
    },
    {
      "cell_type": "code",
      "source": [
        "result_df.to_csv('submission.csv', index = False)"
      ],
      "metadata": {
        "id": "s4Aisso3v76k"
      },
      "execution_count": null,
      "outputs": []
    }
  ]
}