{
  "nbformat": 4,
  "nbformat_minor": 0,
  "metadata": {
    "colab": {
      "name": "DigitRecognizer-MLP.ipynb",
      "provenance": [],
      "collapsed_sections": [],
      "authorship_tag": "ABX9TyM89dNzQ4YlsKk6YSsDDxXn",
      "include_colab_link": true
    },
    "kernelspec": {
      "name": "python3",
      "display_name": "Python 3"
    },
    "language_info": {
      "name": "python"
    }
  },
  "cells": [
    {
      "cell_type": "markdown",
      "metadata": {
        "id": "view-in-github",
        "colab_type": "text"
      },
      "source": [
        "<a href=\"https://colab.research.google.com/github/hwangswan/kaggle-digit-recognizer/blob/main/DigitRecognizer_MLP.ipynb\" target=\"_parent\"><img src=\"https://colab.research.google.com/assets/colab-badge.svg\" alt=\"Open In Colab\"/></a>"
      ]
    },
    {
      "cell_type": "code",
      "source": [
        "from keras.models import Sequential\n",
        "from keras.utils import np_utils\n",
        "from keras.layers.core import Dense, Activation, Dropout\n",
        "from sklearn.model_selection import train_test_split\n",
        "\n",
        "import tensorflow as tf\n",
        "\n",
        "import numpy as np\n",
        "import pandas as pd\n",
        "\n",
        "import zipfile\n",
        "import matplotlib.pyplot as plt\n"
      ],
      "metadata": {
        "id": "URq94XNUkJBz"
      },
      "execution_count": null,
      "outputs": []
    },
    {
      "cell_type": "markdown",
      "source": [
        "Mounting file from Google Drive"
      ],
      "metadata": {
        "id": "x3T_c8zjTXsw"
      }
    },
    {
      "cell_type": "code",
      "source": [
        "from google.colab import drive\n",
        "drive.mount('/gdrive')"
      ],
      "metadata": {
        "colab": {
          "base_uri": "https://localhost:8080/"
        },
        "id": "4wcH8p0xTVpH",
        "outputId": "44b04324-f23b-4895-e322-406bf27bcd65"
      },
      "execution_count": null,
      "outputs": [
        {
          "output_type": "stream",
          "name": "stdout",
          "text": [
            "Mounted at /gdrive\n"
          ]
        }
      ]
    },
    {
      "cell_type": "markdown",
      "source": [
        "Unzip sample data"
      ],
      "metadata": {
        "id": "dxLTfNnAR-pY"
      }
    },
    {
      "cell_type": "code",
      "source": [
        "archive = zipfile.ZipFile('/gdrive/MyDrive/Colab Notebooks/digit-recognizer.zip')\n",
        "\n",
        "for file in archive.namelist():\n",
        "    archive.extract(file, '/content/data')"
      ],
      "metadata": {
        "id": "3vyE-Sx-ReWx"
      },
      "execution_count": null,
      "outputs": []
    },
    {
      "cell_type": "code",
      "source": [
        "train_csv = '/content/data/train.csv'\n",
        "test_csv = '/content/data/test.csv'"
      ],
      "metadata": {
        "id": "wBLgkTE5UEBe"
      },
      "execution_count": null,
      "outputs": []
    },
    {
      "cell_type": "markdown",
      "source": [
        "# Read & preprocess data"
      ],
      "metadata": {
        "id": "Albx2O9mlcUO"
      }
    },
    {
      "cell_type": "code",
      "source": [
        "train = pd.read_csv(train_csv)\n",
        "labels = train['label'].values.astype('int32')"
      ],
      "metadata": {
        "id": "cFXQGh8bmWHg"
      },
      "execution_count": null,
      "outputs": []
    },
    {
      "cell_type": "code",
      "source": [
        "X_train = train.drop('label', axis = 1).values.astype('float32')\n",
        "X_test = pd.read_csv(test_csv).values.astype('float32')"
      ],
      "metadata": {
        "id": "1sXn17kmmWNY"
      },
      "execution_count": null,
      "outputs": []
    },
    {
      "cell_type": "code",
      "source": [
        "X_train.shape"
      ],
      "metadata": {
        "colab": {
          "base_uri": "https://localhost:8080/"
        },
        "id": "SuXrzCVQoRkK",
        "outputId": "4c539377-29d0-4d85-b84b-d64a1f206dda"
      },
      "execution_count": null,
      "outputs": [
        {
          "output_type": "execute_result",
          "data": {
            "text/plain": [
              "(42000, 784)"
            ]
          },
          "metadata": {},
          "execution_count": 12
        }
      ]
    },
    {
      "cell_type": "code",
      "source": [
        "X_test.shape"
      ],
      "metadata": {
        "colab": {
          "base_uri": "https://localhost:8080/"
        },
        "id": "jJQbKEzJoThp",
        "outputId": "43d4bc8e-491f-4b00-c996-a2ca556de3de"
      },
      "execution_count": null,
      "outputs": [
        {
          "output_type": "execute_result",
          "data": {
            "text/plain": [
              "(28000, 784)"
            ]
          },
          "metadata": {},
          "execution_count": 13
        }
      ]
    },
    {
      "cell_type": "code",
      "source": [
        "# Convert list of labels to binary class matrix\n",
        "y_train = np_utils.to_categorical(labels)"
      ],
      "metadata": {
        "id": "wR7KjT7YoVEf"
      },
      "execution_count": null,
      "outputs": []
    },
    {
      "cell_type": "markdown",
      "source": [
        "## Preprocessing"
      ],
      "metadata": {
        "id": "yXUTf89hofHi"
      }
    },
    {
      "cell_type": "code",
      "source": [
        "scale = np.max(X_train)\n",
        "X_train /= scale\n",
        "X_test /= scale"
      ],
      "metadata": {
        "id": "24O3jIubohrX"
      },
      "execution_count": null,
      "outputs": []
    },
    {
      "cell_type": "code",
      "source": [
        "mean = np.std(X_train)\n",
        "X_train -= mean\n",
        "X_test -= mean"
      ],
      "metadata": {
        "id": "svzpeABXoopp"
      },
      "execution_count": null,
      "outputs": []
    },
    {
      "cell_type": "markdown",
      "source": [
        "# CNN definition & model training"
      ],
      "metadata": {
        "id": "A1ZPi5cbozZl"
      }
    },
    {
      "cell_type": "code",
      "source": [
        "input_dimension = X_train.shape[1]\n",
        "total_classes = y_train.shape[1]"
      ],
      "metadata": {
        "id": "XDg0ZXE-o2HY"
      },
      "execution_count": null,
      "outputs": []
    },
    {
      "cell_type": "code",
      "source": [
        "print('Input dimension:', input_dimension)\n",
        "print('Total classes:', total_classes)"
      ],
      "metadata": {
        "colab": {
          "base_uri": "https://localhost:8080/"
        },
        "id": "lpuOSgZ5o_-k",
        "outputId": "b160ce0e-02a5-48a0-d018-41193ae0c9d6"
      },
      "execution_count": null,
      "outputs": [
        {
          "output_type": "stream",
          "name": "stdout",
          "text": [
            "Input dimension: 784\n",
            "Total classes: 10\n"
          ]
        }
      ]
    },
    {
      "cell_type": "code",
      "source": [
        "# Deep Dump MLP (DDMLP)\n",
        "model = Sequential()\n",
        "model.add(Dense(128, input_dim = input_dimension))\n",
        "model.add(Activation('relu'))\n",
        "model.add(Dropout(0.15))\n",
        "model.add(Dense(128))\n",
        "model.add(Activation('relu'))\n",
        "model.add(Dropout(0.15))\n",
        "model.add(Dense(total_classes))\n",
        "model.add(Activation('softmax'))"
      ],
      "metadata": {
        "id": "y7f8fiagpGzQ"
      },
      "execution_count": null,
      "outputs": []
    },
    {
      "cell_type": "code",
      "source": [
        "model.compile(loss = 'mse', optimizer = 'rmsprop', metrics = ['val_loss'])"
      ],
      "metadata": {
        "id": "ShbtRjzMvzaS"
      },
      "execution_count": null,
      "outputs": []
    },
    {
      "cell_type": "code",
      "source": [
        "X_train_, X_val_, y_train_, y_val_ = train_test_split(X_train, y_train, test_size = 0.3, random_state = 42)"
      ],
      "metadata": {
        "id": "hc76PpZmwncC"
      },
      "execution_count": null,
      "outputs": []
    },
    {
      "cell_type": "code",
      "source": [
        "# Training\n",
        "hist = model.fit(X_train_, y_train_, epochs = 10, batch_size = 16, validation_data = (X_val_, y_val_))"
      ],
      "metadata": {
        "colab": {
          "base_uri": "https://localhost:8080/"
        },
        "id": "Cp65DEqmv6-N",
        "outputId": "9b3dc4a7-855e-4809-c6a8-ceec4e4aa37f"
      },
      "execution_count": null,
      "outputs": [
        {
          "output_type": "stream",
          "name": "stdout",
          "text": [
            "Epoch 1/10\n",
            "1838/1838 [==============================] - 13s 7ms/step - loss: 0.0054 - accuracy: 0.9669 - val_loss: 0.0056 - val_accuracy: 0.9665\n",
            "Epoch 2/10\n",
            "1838/1838 [==============================] - 14s 8ms/step - loss: 0.0052 - accuracy: 0.9686 - val_loss: 0.0054 - val_accuracy: 0.9671\n",
            "Epoch 3/10\n",
            "1838/1838 [==============================] - 12s 7ms/step - loss: 0.0050 - accuracy: 0.9698 - val_loss: 0.0051 - val_accuracy: 0.9689\n",
            "Epoch 4/10\n",
            "1838/1838 [==============================] - 13s 7ms/step - loss: 0.0047 - accuracy: 0.9715 - val_loss: 0.0060 - val_accuracy: 0.9648\n",
            "Epoch 5/10\n",
            "1838/1838 [==============================] - 12s 7ms/step - loss: 0.0048 - accuracy: 0.9711 - val_loss: 0.0060 - val_accuracy: 0.9648\n",
            "Epoch 6/10\n",
            "1838/1838 [==============================] - 12s 6ms/step - loss: 0.0047 - accuracy: 0.9713 - val_loss: 0.0052 - val_accuracy: 0.9692\n",
            "Epoch 7/10\n",
            "1838/1838 [==============================] - 12s 7ms/step - loss: 0.0045 - accuracy: 0.9723 - val_loss: 0.0050 - val_accuracy: 0.9689\n",
            "Epoch 8/10\n",
            "1838/1838 [==============================] - 10s 5ms/step - loss: 0.0041 - accuracy: 0.9749 - val_loss: 0.0050 - val_accuracy: 0.9702\n",
            "Epoch 9/10\n",
            "1838/1838 [==============================] - 8s 4ms/step - loss: 0.0043 - accuracy: 0.9743 - val_loss: 0.0048 - val_accuracy: 0.9718\n",
            "Epoch 10/10\n",
            "1838/1838 [==============================] - 7s 4ms/step - loss: 0.0041 - accuracy: 0.9747 - val_loss: 0.0050 - val_accuracy: 0.9704\n"
          ]
        }
      ]
    },
    {
      "cell_type": "code",
      "source": [
        "plt.plot(hist.history['accuracy'])\n",
        "plt.plot(hist.history['val_accuracy'])\n",
        "plt.xlabel('Epochs')\n",
        "plt.ylabel('Accuracy')\n",
        "plt.legend(['accuracy', 'val_accuracy'])"
      ],
      "metadata": {
        "colab": {
          "base_uri": "https://localhost:8080/",
          "height": 296
        },
        "id": "850RkqSGzzIv",
        "outputId": "9cca446a-c2a4-41bf-ea49-7e47cea2a0cc"
      },
      "execution_count": null,
      "outputs": [
        {
          "output_type": "execute_result",
          "data": {
            "text/plain": [
              "<matplotlib.legend.Legend at 0x7f23d2b15950>"
            ]
          },
          "metadata": {},
          "execution_count": 97
        },
        {
          "output_type": "display_data",
          "data": {
            "image/png": "[encoded data removed]",
            "text/plain": [
              "<Figure size 432x288 with 1 Axes>"
            ]
          },
          "metadata": {
            "needs_background": "light"
          }
        }
      ]
    },
    {
      "cell_type": "code",
      "source": [
        "plt.plot(hist.history['loss'])\n",
        "plt.plot(hist.history['val_loss'])\n",
        "plt.xlabel('Epochs')\n",
        "plt.ylabel('Loss')\n",
        "plt.legend(['loss', 'val_loss'])"
      ],
      "metadata": {
        "colab": {
          "base_uri": "https://localhost:8080/",
          "height": 296
        },
        "id": "83EROFSy0JFH",
        "outputId": "044c9ea6-0ec2-41bb-bbe5-18d4249f9d49"
      },
      "execution_count": null,
      "outputs": [
        {
          "output_type": "execute_result",
          "data": {
            "text/plain": [
              "<matplotlib.legend.Legend at 0x7f23d2924cd0>"
            ]
          },
          "metadata": {},
          "execution_count": 98
        },
        {
          "output_type": "display_data",
          "data": {
            "image/png": "[encoded data removed]",
            "text/plain": [
              "<Figure size 432x288 with 1 Axes>"
            ]
          },
          "metadata": {
            "needs_background": "light"
          }
        }
      ]
    },
    {
      "cell_type": "code",
      "source": [
        "# Get score\n",
        "model.evaluate(X_val_, y_val_)"
      ],
      "metadata": {
        "colab": {
          "base_uri": "https://localhost:8080/"
        },
        "id": "Q-5-otaG0RDn",
        "outputId": "ca551238-d248-4c4f-e208-29dd524bdedb"
      },
      "execution_count": null,
      "outputs": [
        {
          "output_type": "stream",
          "name": "stdout",
          "text": [
            "394/394 [==============================] - 1s 3ms/step - loss: 0.0050 - accuracy: 0.9704\n"
          ]
        },
        {
          "output_type": "execute_result",
          "data": {
            "text/plain": [
              "[0.005034477915614843, 0.9703968167304993]"
            ]
          },
          "metadata": {},
          "execution_count": 95
        }
      ]
    },
    {
      "cell_type": "markdown",
      "source": [
        "# Final"
      ],
      "metadata": {
        "id": "vYn38Qdl3NRi"
      }
    },
    {
      "cell_type": "code",
      "source": [
        "predicts = model.predict(X_test)\n",
        "result = [np.argmax(c) for c in predicts]"
      ],
      "metadata": {
        "id": "VBAs2A-Y4dIk"
      },
      "execution_count": null,
      "outputs": []
    },
    {
      "cell_type": "code",
      "source": [
        "pd.DataFrame({\n",
        "    'ImageId' : list(range(1, len(result) + 1)),\n",
        "    'Label' : result\n",
        "}).to_csv('submission.csv', index = False)"
      ],
      "metadata": {
        "id": "1eZ2LWzc45-I"
      },
      "execution_count": null,
      "outputs": []
    }
  ]
}